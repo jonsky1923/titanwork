{
 "cells": [
  {
   "cell_type": "code",
   "execution_count": 2,
   "id": "17773648",
   "metadata": {},
   "outputs": [
    {
     "name": "stdout",
     "output_type": "stream",
     "text": [
      "Welkome to Python!\n"
     ]
    }
   ],
   "source": [
    "print(\"Welkome to Python!\")"
   ]
  },
  {
   "cell_type": "code",
   "execution_count": null,
   "id": "3e5e4ebf",
   "metadata": {},
   "outputs": [],
   "source": []
  }
 ],
 "metadata": {
  "kernelspec": {
   "display_name": "Python 3 (ipykernel)",
   "language": "python",
   "name": "python3"
  },
  "language_info": {
   "codemirror_mode": {
    "name": "ipython",
    "version": 3
   },
   "file_extension": ".py",
   "mimetype": "text/x-python",
   "name": "python",
   "nbconvert_exporter": "python",
   "pygments_lexer": "ipython3",
   "version": "3.9.12"
  }
 },
 "nbformat": 4,
 "nbformat_minor": 5
}
